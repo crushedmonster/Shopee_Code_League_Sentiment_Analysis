{
 "cells": [
  {
   "cell_type": "code",
   "execution_count": 1,
   "metadata": {
    "_cell_guid": "b1076dfc-b9ad-4769-8c92-a6c4dae69d19",
    "_uuid": "8f2839f25d086af736a60e9eeb907d3b93b6e0e5"
   },
   "outputs": [
    {
     "name": "stdout",
     "output_type": "stream",
     "text": [
      "/kaggle/input/text-augmentation/review_aug_insert.csv\n",
      "/kaggle/input/shopee-sentiment-analysis/test.csv\n",
      "/kaggle/input/shopee-sentiment-analysis/train.csv\n",
      "/kaggle/input/shopee-sentiment-analysis/sampleSubmission.csv\n"
     ]
    }
   ],
   "source": [
    "# This Python 3 environment comes with many helpful analytics libraries installed\n",
    "# It is defined by the kaggle/python Docker image: https://github.com/kaggle/docker-python\n",
    "# For example, here's several helpful packages to load\n",
    "\n",
    "import numpy as np # linear algebra\n",
    "import pandas as pd # data processing, CSV file I/O (e.g. pd.read_csv)\n",
    "\n",
    "# Input data files are available in the read-only \"../input/\" directory\n",
    "# For example, running this (by clicking run or pressing Shift+Enter) will list all files under the input directory\n",
    "\n",
    "import os\n",
    "for dirname, _, filenames in os.walk('/kaggle/input'):\n",
    "    for filename in filenames:\n",
    "        print(os.path.join(dirname, filename))\n",
    "\n",
    "# You can write up to 5GB to the current directory (/kaggle/working/) that gets preserved as output when you create a version using \"Save & Run All\" \n",
    "# You can also write temporary files to /kaggle/temp/, but they won't be saved outside of the current session"
   ]
  },
  {
   "cell_type": "markdown",
   "execution_count": null,
   "metadata": {},
   "source": [
    "# Loading the data"
   ]
  },
  {
   "cell_type": "code",
   "execution_count": 2,
   "metadata": {
    "_cell_guid": "79c7e3d0-c299-4dcb-8224-4455121ee9b0",
    "_uuid": "d629ff2d2480ee46fbb7e2d37f6b5fab8052498a"
   },
   "outputs": [
    {
     "name": "stdout",
     "output_type": "stream",
     "text": [
      "First five rows of training data:\n",
      "    review_id                                             review  rating\n",
      "0          0  Ga disappointed neat products .. Meletot Hilsn...       1\n",
      "1          1    Rdtanya replace broken glass, broken chargernya       1\n",
      "2          2  Nyesel bngt dsni shopping antecedent photo mes...       1\n",
      "3          3      Sent a light blue suit goods ga want a refund       1\n",
      "4          4  Pendants came with dents and scratches on its ...       1 \n",
      "\n",
      "First five rows of testing data:\n",
      "    review_id                                             review\n",
      "0          1  Great danger, cool, motif and cantik2 jg model...\n",
      "1          2                   One of the shades don't fit well\n",
      "2          3                                   Very comfortable\n",
      "3          4  Fast delivery. Product expiry is on Dec 2022. ...\n",
      "4          5  it's sooooo cute! i like playing with the glit...\n"
     ]
    }
   ],
   "source": [
    "train =  pd.read_csv('../input/shopee-sentiment-analysis/train.csv')\n",
    "test = pd.read_csv('../input/shopee-sentiment-analysis/test.csv')\n",
    "\n",
    "# printing first five rows of the files\n",
    "print('First five rows of training data:\\n',train.head(),'\\n')\n",
    "print('First five rows of testing data:\\n',test.head())"
   ]
  },
  {
   "cell_type": "markdown",
   "execution_count": null,
   "metadata": {},
   "source": [
    "# Data Exploration\n",
    "We see that there are no missing values in the training data set."
   ]
  },
  {
   "cell_type": "code",
   "execution_count": 3,
   "metadata": {},
   "outputs": [
    {
     "name": "stdout",
     "output_type": "stream",
     "text": [
      "<class 'pandas.core.frame.DataFrame'>\n",
      "RangeIndex: 146811 entries, 0 to 146810\n",
      "Data columns (total 3 columns):\n",
      " #   Column     Non-Null Count   Dtype \n",
      "---  ------     --------------   ----- \n",
      " 0   review_id  146811 non-null  int64 \n",
      " 1   review     146811 non-null  object\n",
      " 2   rating     146811 non-null  int64 \n",
      "dtypes: int64(2), object(1)\n",
      "memory usage: 3.4+ MB\n",
      "\n",
      "\n",
      "<class 'pandas.core.frame.DataFrame'>\n",
      "RangeIndex: 60427 entries, 0 to 60426\n",
      "Data columns (total 2 columns):\n",
      " #   Column     Non-Null Count  Dtype \n",
      "---  ------     --------------  ----- \n",
      " 0   review_id  60427 non-null  int64 \n",
      " 1   review     60427 non-null  object\n",
      "dtypes: int64(1), object(1)\n",
      "memory usage: 944.3+ KB\n"
     ]
    }
   ],
   "source": [
    "# check data info\n",
    "train.info()\n",
    "print('\\n')\n",
    "test.info()"
   ]
  },
  {
   "cell_type": "code",
   "execution_count": 4,
   "metadata": {},
   "outputs": [
    {
     "name": "stdout",
     "output_type": "stream",
     "text": [
      "Train shape: (146811, 2)\n"
     ]
    }
   ],
   "source": [
    "# drop unwanted column from train data\n",
    "\n",
    "train.drop('review_id', axis=1, inplace=True)\n",
    "print('Train shape:', train.shape)"
   ]
  },
  {
   "cell_type": "markdown",
   "execution_count": null,
   "metadata": {},
   "source": [
    "# Imbalanced Classes\n",
    "We see that there are generally more postive ratings (>= 3) per review."
   ]
  },
  {
   "cell_type": "code",
   "execution_count": 5,
   "metadata": {},
   "outputs": [
    {
     "data": {
      "image/png": "[encoded data removed]",
      "text/plain": [
       "<Figure size 576x432 with 1 Axes>"
      ]
     },
     "metadata": {
      "needs_background": "light"
     },
     "output_type": "display_data"
    }
   ],
   "source": [
    "import matplotlib.pyplot as plt\n",
    "fig = plt.figure(figsize=(8,6))\n",
    "train.groupby('rating').review.count().plot.bar(ylim=0)\n",
    "plt.show()"
   ]
  },
  {
   "cell_type": "markdown",
   "execution_count": null,
   "metadata": {},
   "source": [
    "# Clean Emoji"
   ]
  },
  {
   "cell_type": "code",
   "execution_count": 6,
   "metadata": {},
   "outputs": [
    {
     "data": {
      "text/plain": [
       "146782    Mantul ... smiling face with heart eyes thumbs...\n",
       "146787    Her material is different different, but good ...\n",
       "146800    Hehe thanks Baguuuuuuuuuuuus kaaaa smiling fac...\n",
       "146801    Explore huge crowd here Children seem to like ...\n",
       "146808    Awesome awesome quality merchandise value CP V...\n",
       "Name: review, dtype: object"
      ]
     },
     "execution_count": 6,
     "metadata": {},
     "output_type": "execute_result"
    }
   ],
   "source": [
    "import emoji \n",
    "\n",
    "have_emoji_train_idx = []\n",
    "have_emoji_test_idx = []\n",
    "\n",
    "for idx, review in enumerate(train['review']):\n",
    "    if any(char in emoji.UNICODE_EMOJI for char in review):\n",
    "        have_emoji_train_idx.append(idx)\n",
    "        \n",
    "for idx, review in enumerate(test['review']):\n",
    "    if any(char in emoji.UNICODE_EMOJI for char in review):\n",
    "        have_emoji_test_idx.append(idx)\n",
    "\n",
    "def emoji_cleaning(text):\n",
    "    \n",
    "    # Change emoji to text\n",
    "    text = emoji.demojize(text).replace(\":\", \" \")\n",
    "    \n",
    "    # Delete repeated emoji\n",
    "    tokenizer = text.split()\n",
    "    repeated_list = []\n",
    "    \n",
    "    for word in tokenizer:\n",
    "        if word not in repeated_list:\n",
    "            repeated_list.append(word)\n",
    "    \n",
    "    text = ' '.join(text for text in repeated_list)\n",
    "    text = text.replace(\"_\", \" \").replace(\"-\", \" \")\n",
    "    return text\n",
    "\n",
    "# emoji_cleaning\n",
    "train.loc[have_emoji_train_idx, 'review'] = train.loc[have_emoji_train_idx, 'review'].apply(emoji_cleaning)\n",
    "test.loc[have_emoji_test_idx, 'review'] = test.loc[have_emoji_test_idx, 'review'].apply(emoji_cleaning)\n",
    "\n",
    "\n",
    "# after cleaning\n",
    "train.loc[have_emoji_train_idx, 'review'].tail()"
   ]
  },
  {
   "cell_type": "markdown",
   "execution_count": null,
   "metadata": {},
   "source": [
    "# Change Emoticon to Text"
   ]
  },
  {
   "cell_type": "code",
   "execution_count": 7,
   "metadata": {},
   "outputs": [],
   "source": [
    "import re\n",
    "\n",
    "def clean_emoticon(text):\n",
    "    \n",
    "    # change emoticon to text\n",
    "    text = re.sub(r':\\(', 'dislike', text)\n",
    "    text = re.sub(r': \\(\\(', 'dislike', text)\n",
    "    text = re.sub(r':, \\(', 'dislike', text)\n",
    "    text = re.sub(r':\\)', 'smile', text)\n",
    "    text = re.sub(r';\\)', 'smile', text)\n",
    "    text = re.sub(r':\\)\\)\\)', 'smile', text)\n",
    "    text = re.sub(r':\\)\\)\\)\\)\\)\\)', 'smile', text)\n",
    "    text = re.sub(r'=\\)\\)\\)\\)', 'smile', text)\n",
    "    \n",
    "    return text\n",
    "\n",
    "train['review'] = train['review'].apply(clean_emoticon)\n",
    "test['review'] = test['review'].apply(clean_emoticon)"
   ]
  },
  {
   "cell_type": "markdown",
   "execution_count": null,
   "metadata": {},
   "source": [
    "# Delete Repeated Words\n",
    "Attempt to preprocess more than 2 repeated character."
   ]
  },
  {
   "cell_type": "code",
   "execution_count": 8,
   "metadata": {},
   "outputs": [],
   "source": [
    "repeated_rows_train = []\n",
    "repeated_rows_test = []\n",
    "\n",
    "for idx, review in enumerate(train['review']):\n",
    "    if re.match(r'\\w*(\\w)\\1+', review):\n",
    "        repeated_rows_train.append(idx)\n",
    "        \n",
    "for idx, review in enumerate(test['review']):\n",
    "    if re.match(r'\\w*(\\w)\\1+', review):\n",
    "        repeated_rows_test.append(idx)\n",
    "\n",
    "def delete_repeated_char(text):\n",
    "    \n",
    "    text = re.sub(r'(\\w)\\1{2,}', r'\\1', text)\n",
    "    \n",
    "    return text\n",
    "\n",
    "train.loc[repeated_rows_train, 'review'] = train.loc[repeated_rows_train, 'review'].apply(delete_repeated_char)\n",
    "test.loc[repeated_rows_test, 'review'] = test.loc[repeated_rows_test, 'review'].apply(delete_repeated_char)"
   ]
  },
  {
   "cell_type": "markdown",
   "execution_count": null,
   "metadata": {},
   "source": [
    "# Delete Rows with Noisy Text or Incorrect Ratings\n",
    "This was an attempt to find rows with noisy text/incorrect ratings"
   ]
  },
  {
   "cell_type": "code",
   "execution_count": 9,
   "metadata": {},
   "outputs": [],
   "source": [
    "# drop the row that has noisy text or mislabeled rating\n",
    "noisy_row = [31, 50, 160, 206, 353, 1128, 2235, 2545, 3682, 5244, 10409, 11748, 12308, 12384, 14395, 15215, 17629, 17935, 20819, 20820, 22628, 23691, 32089, 39532, 40530, 43954, 48186, 50500, 55834, 60088,\n",
    "             60442, 61095, 62982, 63803, 67464, 70791, 74861, 73636, 74119, 76275, 79789, 85745, 91058, 91663, 91800, 93204, 99295, 100903, 101177, 103155,\n",
    "             109166, 109566, 109651, 109724, 110115, 110441, 111461, 113175, 115782, 116903, 118099, 118328, 118414, 119071, 125338, 125340, 129496, 129640, \n",
    "             132027, 138212, 131626, 134715, 133248, 136217, 141377, 143707, 145045, 146485, 37301]\n",
    "\n",
    "train.drop(noisy_row, inplace=True)"
   ]
  },
  {
   "cell_type": "markdown",
   "execution_count": null,
   "metadata": {},
   "source": [
    "# Convert Slangs to its Original Word"
   ]
  },
  {
   "cell_type": "code",
   "execution_count": 10,
   "metadata": {},
   "outputs": [],
   "source": [
    "def recover_shortened_words(text):\n",
    "    \n",
    "    # put \\b (boundary) to avoid the characters in the word to be replaced\n",
    "    \n",
    "    text = re.sub(r'\\bapaa\\b', 'apa', text)\n",
    "    text = re.sub(r'\\bad\\b', 'advertisement', text)\n",
    "    \n",
    "    text = re.sub(r'\\bbsk\\b', 'besok', text)\n",
    "    text = re.sub(r'\\bbrngnya\\b', 'barangnya', text)\n",
    "    text = re.sub(r'\\bbrp\\b', 'berapa', text)\n",
    "    text = re.sub(r'\\bbgt\\b', 'banget', text)\n",
    "    text = re.sub(r'\\bbngt\\b', 'banget', text)\n",
    "    text = re.sub(r'\\bgini\\b', 'begini', text)\n",
    "    text = re.sub(r'\\bbrg\\b', 'barang', text)\n",
    "    \n",
    "    text = re.sub(r'\\bcpat\\b', 'cepat', text)\n",
    "    \n",
    "    text = re.sub(r'\\bdtg\\b', 'datang', text)\n",
    "    text = re.sub(r'\\bd\\b', 'di', text)\n",
    "    text = re.sub(r'\\bsdh\\b', 'sudah', text)\n",
    "    text = re.sub(r'\\bdri\\b', 'dari', text)\n",
    "    text = re.sub(r'\\bdsni\\b', 'disini', text)\n",
    "    text = re.sub(r'\\btsk\\b', 'disapprove', text)\n",
    "    \n",
    "    text = re.sub(r'\\bgk\\b', 'gak', text)\n",
    "    \n",
    "    text = re.sub(r'\\bhrs\\b', 'harus', text)\n",
    "    \n",
    "    text = re.sub(r'\\bjd\\b', 'jadi', text)\n",
    "    text = re.sub(r'\\bjg\\b', 'juga', text)\n",
    "    text = re.sub(r'\\bjgn\\b', 'jangan', text)\n",
    "    \n",
    "    text = re.sub(r'\\blg\\b', 'lagi', text)\n",
    "    text = re.sub(r'\\blgi\\b', 'lagi', text)\n",
    "    text = re.sub(r'\\blbh\\b', 'lebih', text)\n",
    "    text = re.sub(r'\\blbih\\b', 'lebih', text)\n",
    "    \n",
    "    text = re.sub(r'\\bmksh\\b', 'makasih', text)\n",
    "    text = re.sub(r'\\bmna\\b', 'mana', text)\n",
    "    \n",
    "    text = re.sub(r'\\borg\\b', 'orang', text)\n",
    "    \n",
    "    text = re.sub(r'\\bpjg\\b', 'panjang', text)\n",
    "    \n",
    "    text = re.sub(r'\\bka\\b', 'kakak', text)\n",
    "    text = re.sub(r'\\bkk\\b', 'kakak', text)\n",
    "    text = re.sub(r'\\bklo\\b', 'kalau', text)\n",
    "    text = re.sub(r'\\bkmrn\\b', 'kemarin', text)\n",
    "    text = re.sub(r'\\bkmrin\\b', 'kemarin', text)\n",
    "    text = re.sub(r'\\bknp\\b', 'kenapa', text)\n",
    "    text = re.sub(r'\\bkcil\\b', 'kecil', text)\n",
    "    \n",
    "    text = re.sub(r'\\bgmn\\b', 'gimana', text)\n",
    "    text = re.sub(r'\\bgmna\\b', 'gimana', text)\n",
    "    \n",
    "    text = re.sub(r'\\btp\\b', 'tapi', text)\n",
    "    text = re.sub(r'\\btq\\b', 'thanks', text)\n",
    "    text = re.sub(r'\\btks\\b', 'thanks', text)\n",
    "    text = re.sub(r'\\btlg\\b', 'tolong', text)\n",
    "    text = re.sub(r'\\bgk\\b', 'tidak', text)\n",
    "    text = re.sub(r'\\bgak\\b', 'tidak', text)\n",
    "    text = re.sub(r'\\bgpp\\b', 'tidak apa apa', text)\n",
    "    text = re.sub(r'\\bgapapa\\b', 'tidak apa apa', text)\n",
    "    text = re.sub(r'\\bga\\b', 'tidak', text)\n",
    "    text = re.sub(r'\\btgl\\b', 'tanggal', text)\n",
    "    text = re.sub(r'\\btggl\\b', 'tanggal', text)\n",
    "    text = re.sub(r'\\bgamau\\b', 'tidak mau', text)\n",
    "    \n",
    "    text = re.sub(r'\\bsy\\b', 'saya', text)\n",
    "    text = re.sub(r'\\bsis\\b', 'sister', text)\n",
    "    text = re.sub(r'\\bsdgkan\\b', 'sedangkan', text)\n",
    "    text = re.sub(r'\\bmdh2n\\b', 'semoga', text)\n",
    "    text = re.sub(r'\\bsmoga\\b', 'semoga', text)\n",
    "    text = re.sub(r'\\bsmpai\\b', 'sampai', text)\n",
    "    text = re.sub(r'\\bnympe\\b', 'sampai', text)\n",
    "    text = re.sub(r'\\bdah\\b', 'sudah', text)\n",
    "    \n",
    "    text = re.sub(r'\\bpls\\b', 'please', text)\n",
    "    text = re.sub(r'\\bpcs\\b', 'pieces', text)\n",
    "    text = re.sub(r'\\bfoto\\b', 'photo', text)\n",
    "    text = re.sub(r'\\bpic\\b', 'picture', text)\n",
    "    text = re.sub(r'\\bpict\\b', 'picture', text)\n",
    "    \n",
    "    text = re.sub(r'\\bberkali2\\b', 'repeated', text)\n",
    "    \n",
    "    text = re.sub(r'\\byg\\b', 'yang', text)\n",
    "    \n",
    "    return text\n",
    "\n",
    "train['review'] = train['review'].apply(recover_shortened_words)\n",
    "test['review'] = test['review'].apply(recover_shortened_words)"
   ]
  },
  {
   "cell_type": "markdown",
   "execution_count": null,
   "metadata": {},
   "source": [
    "# Text Cleaning for Modelling\n",
    "\n",
    "1. Remove punctuation\n",
    "2. Delete new line\n",
    "3. Tokenization + Converting to lowercase + Strip Whitespaces\n",
    "4. Remove Stopwords\n",
    "5. Lemmatization"
   ]
  },
  {
   "cell_type": "code",
   "execution_count": 11,
   "metadata": {},
   "outputs": [
    {
     "data": {
      "text/plain": [
       "0    Ga disappointed neat products  Meletot Hilsnya...\n",
       "1       Rdtanya replace broken glass broken chargernya\n",
       "2    Nyesel banget disini shopping antecedent photo...\n",
       "3     Sent a light blue suit goods tidak want a refund\n",
       "4    Pendants came with dents and scratches on its ...\n",
       "Name: review, dtype: object"
      ]
     },
     "execution_count": 11,
     "metadata": {},
     "output_type": "execute_result"
    }
   ],
   "source": [
    "import string\n",
    "\n",
    "# Remove punctuation\n",
    "\n",
    "def remove_punctuation(text):\n",
    "    no_punct = \"\".join([word for word in text if word not in string.punctuation])\n",
    "    return no_punct\n",
    "\n",
    "\n",
    "train['review'] = train['review'].apply(lambda x: remove_punctuation(x))\n",
    "\n",
    "train['review'].head()"
   ]
  },
  {
   "cell_type": "code",
   "execution_count": 12,
   "metadata": {},
   "outputs": [
    {
     "data": {
      "text/plain": [
       "0    Ga disappointed neat products  Meletot Hilsnya...\n",
       "1       Rdtanya replace broken glass broken chargernya\n",
       "2    Nyesel banget disini shopping antecedent photo...\n",
       "3     Sent a light blue suit goods tidak want a refund\n",
       "4    Pendants came with dents and scratches on its ...\n",
       "Name: review, dtype: object"
      ]
     },
     "execution_count": 12,
     "metadata": {},
     "output_type": "execute_result"
    }
   ],
   "source": [
    "# Remove new line\n",
    "\n",
    "def remove_newline(text):\n",
    "    del_line = \"\".join([word for word in text.split('\\n') if word.strip() != ''])\n",
    "    return del_line\n",
    "\n",
    "train['review'] = train['review'].apply(lambda x: remove_newline(x))\n",
    "\n",
    "train['review'].head()"
   ]
  },
  {
   "cell_type": "code",
   "execution_count": 13,
   "metadata": {},
   "outputs": [
    {
     "data": {
      "text/plain": [
       "0    [ga, disappointed, neat, products, meletot, hi...\n",
       "1    [rdtanya, replace, broken, glass, broken, char...\n",
       "2    [nyesel, banget, disini, shopping, antecedent,...\n",
       "3    [sent, a, light, blue, suit, goods, tidak, wan...\n",
       "4    [pendants, came, with, dents, and, scratches, ...\n",
       "Name: review, dtype: object"
      ]
     },
     "execution_count": 13,
     "metadata": {},
     "output_type": "execute_result"
    }
   ],
   "source": [
    "from nltk.tokenize import RegexpTokenizer\n",
    "\n",
    "# Tokenize, convert to lowercase, and strip whitespaces\n",
    "\n",
    "tokenizer = RegexpTokenizer(r'\\w+')\n",
    "\n",
    "train['review'] = train['review'].apply(lambda x: tokenizer.tokenize(x.lower().strip()))\n",
    "\n",
    "train['review'].head()"
   ]
  },
  {
   "cell_type": "code",
   "execution_count": 14,
   "metadata": {},
   "outputs": [
    {
     "data": {
      "text/plain": [
       "0    ga disappointed neat products meletot hilsnyaa...\n",
       "1       rdtanya replace broken glass broken chargernya\n",
       "2    nyesel banget disini shopping antecedent photo...\n",
       "3         sent light blue suit goods tidak want refund\n",
       "4    pendants came dents scratches surface coating ...\n",
       "Name: review, dtype: object"
      ]
     },
     "execution_count": 14,
     "metadata": {},
     "output_type": "execute_result"
    }
   ],
   "source": [
    "from nltk.corpus import stopwords\n",
    "\n",
    "# remove stop words\n",
    "\n",
    "def remove_stopwords(text):\n",
    "    words = \" \".join([word for word in text if word not in stopwords.words('english')])\n",
    "    return words\n",
    "\n",
    "train['review'] = train['review'].apply(lambda x: remove_stopwords(x))\n",
    "\n",
    "train['review'].head()"
   ]
  },
  {
   "cell_type": "code",
   "execution_count": 15,
   "metadata": {},
   "outputs": [
    {
     "data": {
      "text/plain": [
       "0    ga disappoint neat product meletot hilsnyaa sp...\n",
       "1         rdtanya replace break glass break chargernya\n",
       "2    nyesel banget disini shopping antecedent photo...\n",
       "3          send light blue suit good tidak want refund\n",
       "4    pendant come dent scratch surface coating look...\n",
       "Name: review, dtype: object"
      ]
     },
     "execution_count": 15,
     "metadata": {},
     "output_type": "execute_result"
    }
   ],
   "source": [
    "import spacy\n",
    "\n",
    "# Lemmatizing\n",
    "# Initialize spacy 'en' model, keeping only tagger component needed for lemmatization\n",
    "nlp = spacy.load('en', disable=['parser', 'ner'])\n",
    "\n",
    "def word_lemmatizer(text):\n",
    "    lem_text = \" \".join([word.lemma_ for word in nlp(text)])\n",
    "    return lem_text\n",
    "\n",
    "train['review'] = train['review'].apply(lambda x: word_lemmatizer(x))\n",
    "\n",
    "train['review'].head()"
   ]
  },
  {
   "cell_type": "markdown",
   "execution_count": null,
   "metadata": {},
   "source": [
    "# Exploring Text Augmentation (TBD)\n",
    "Using text augmentation, we can try to generate more rating 1 & 2 training dataset to tackle the problem of class imbalance. Here we'll attempt to use Contextualized Word Embeddings.\n",
    "\n",
    "Since the codes below took hours to run, we'll just be using the data generated from running the codes below from another notebook."
   ]
  },
  {
   "cell_type": "code",
   "execution_count": 16,
   "metadata": {},
   "outputs": [],
   "source": [
    "#!pip install nlpaug -q"
   ]
  },
  {
   "cell_type": "code",
   "execution_count": 17,
   "metadata": {},
   "outputs": [],
   "source": [
    "#import nlpaug.augmenter.char as nac\n",
    "#import nlpaug.augmenter.word as naw"
   ]
  },
  {
   "cell_type": "code",
   "execution_count": 18,
   "metadata": {},
   "outputs": [],
   "source": [
    "#%%time\n",
    "\n",
    "#review_augmented = []\n",
    "\n",
    "# action = \"insert\" or 'substitute (default)'\n",
    "#aug = naw.ContextualWordEmbsAug(model_path='bert-base-multilingual-uncased', action='insert')\n",
    "\n",
    "#aug = naw.ContextualWordEmbsAug(model_path='bert-base-multilingual-uncased', action='substitute', aug_p=0.5) # higher aug_p = substitute more words\n",
    "\n",
    "#ratings = [1,2]\n",
    "#train1_and_2 = train[train.rating.isin(ratings)]\n",
    "#train1_and_2.shape"
   ]
  },
  {
   "cell_type": "code",
   "execution_count": 19,
   "metadata": {},
   "outputs": [],
   "source": [
    "#for review in train1_and_2['review']:    \n",
    "#    augmented_text = aug.augment(review)\n",
    "#    review_augmented.append(augmented_text)\n",
    "    \n",
    "#train_aug = pd.DataFrame({'review': review_augmented,\n",
    "#                          'rating': train1_and_2['rating']})\n"
   ]
  },
  {
   "cell_type": "code",
   "execution_count": 20,
   "metadata": {},
   "outputs": [],
   "source": [
    "# export to csv\n",
    "#train_aug.to_csv('review_aug_insert.csv', index=False)"
   ]
  },
  {
   "cell_type": "code",
   "execution_count": 21,
   "metadata": {},
   "outputs": [],
   "source": [
    "#train_aug =  pd.read_csv('/kaggle/input/text-augmentation/review_aug_insert.csv')\n",
    "\n",
    "#print('train aug shape:', train_aug.shape)"
   ]
  },
  {
   "cell_type": "code",
   "execution_count": 22,
   "metadata": {},
   "outputs": [],
   "source": [
    "# filter away null values\n",
    "#train_aug = train_aug[train_aug.review.notnull()]\n",
    "\n",
    "#print('train aug shape:', train_aug.shape)"
   ]
  },
  {
   "cell_type": "code",
   "execution_count": 23,
   "metadata": {},
   "outputs": [],
   "source": [
    "# clean the augmented text\n",
    "#train_aug['review'] = train_aug['review'].apply(lambda x: remove_punctuation(x))\n",
    "#train_aug['review'] = train_aug['review'].apply(lambda x: remove_newline(x))\n",
    "#train_aug['review'] = train_aug['review'].apply(lambda x: tokenizer.tokenize(x.lower().strip()))\n",
    "#train_aug['review'] = train_aug['review'].apply(lambda x: remove_stopwords(x))\n",
    "#train_aug['review'] = train_aug['review'].apply(lambda x: word_lemmatizer(x))"
   ]
  },
  {
   "cell_type": "code",
   "execution_count": 24,
   "metadata": {},
   "outputs": [],
   "source": [
    "#from nltk import word_tokenize#\n",
    "\n",
    "# Tokenize each item in the review column\n",
    "#word_tokens = [word_tokenize(review) for review in train_aug.review]\n",
    "\n",
    "# Create an empty list to store the length of the reviews\n",
    "#len_tokens = []\n",
    "\n",
    "# Iterate over the word_tokens list and determine the length of each item\n",
    "#for i in range(len(word_tokens)):\n",
    "#     len_tokens.append(len(word_tokens[i]))\n",
    "\n",
    "# Create a new feature for the lengh of each review\n",
    "#train_aug['n_words'] = len_tokens "
   ]
  },
  {
   "cell_type": "code",
   "execution_count": 25,
   "metadata": {},
   "outputs": [],
   "source": [
    "# filter away rows that have less than 3 words\n",
    "\n",
    "#train_aug = train_aug[train_aug['n_words'] >= 3]\n",
    "#print('train aug shape:', train_aug.shape)"
   ]
  },
  {
   "cell_type": "code",
   "execution_count": 26,
   "metadata": {},
   "outputs": [],
   "source": [
    "#train_aug.drop('n_words', axis=1, inplace=True)"
   ]
  },
  {
   "cell_type": "code",
   "execution_count": 27,
   "metadata": {},
   "outputs": [],
   "source": [
    "#train = pd.concat([train, train_aug], axis=0, ignore_index=True)"
   ]
  },
  {
   "cell_type": "code",
   "execution_count": 28,
   "metadata": {},
   "outputs": [],
   "source": [
    "#import matplotlib.pyplot as plt\n",
    "#fig = plt.figure(figsize=(8,6))\n",
    "#train.groupby('rating').review.count().plot.bar(ylim=0)\n",
    "#plt.show()"
   ]
  },
  {
   "cell_type": "markdown",
   "execution_count": null,
   "metadata": {},
   "source": [
    "# Prepare Test Set for Prediction"
   ]
  },
  {
   "cell_type": "code",
   "execution_count": 29,
   "metadata": {},
   "outputs": [
    {
     "name": "stdout",
     "output_type": "stream",
     "text": [
      "Test shape: (60427, 1)\n",
      "Test Dup shape: (60427, 2)\n"
     ]
    }
   ],
   "source": [
    "# drop unwanted column from test data\n",
    "test_dup = test[['review_id', 'review']]\n",
    "test.drop('review_id', axis=1, inplace=True)\n",
    "print('Test shape:', test.shape)\n",
    "print('Test Dup shape:', test_dup.shape)"
   ]
  },
  {
   "cell_type": "code",
   "execution_count": 30,
   "metadata": {},
   "outputs": [
    {
     "data": {
      "text/plain": [
       "0    Great danger cool motif and cantik2 juga model...\n",
       "1                      One of the shades dont fit well\n",
       "2                                     Very comfortable\n",
       "3    Fast delivery Product expiry is on Dec 2022 Pr...\n",
       "4    its sooooo cute i like playing with the glitte...\n",
       "Name: review, dtype: object"
      ]
     },
     "execution_count": 30,
     "metadata": {},
     "output_type": "execute_result"
    }
   ],
   "source": [
    "test['review'] = test['review'].apply(lambda x: remove_punctuation(x))\n",
    "test['review'].head()"
   ]
  },
  {
   "cell_type": "code",
   "execution_count": 31,
   "metadata": {},
   "outputs": [
    {
     "data": {
      "text/plain": [
       "0    Great danger cool motif and cantik2 juga model...\n",
       "1                      One of the shades dont fit well\n",
       "2                                     Very comfortable\n",
       "3    Fast delivery Product expiry is on Dec 2022 Pr...\n",
       "4    its sooooo cute i like playing with the glitte...\n",
       "Name: review, dtype: object"
      ]
     },
     "execution_count": 31,
     "metadata": {},
     "output_type": "execute_result"
    }
   ],
   "source": [
    "test['review'] = test['review'].apply(lambda x: remove_newline(x))\n",
    "test['review'].head()"
   ]
  },
  {
   "cell_type": "code",
   "execution_count": 32,
   "metadata": {},
   "outputs": [
    {
     "data": {
      "text/plain": [
       "0    [great, danger, cool, motif, and, cantik2, jug...\n",
       "1              [one, of, the, shades, dont, fit, well]\n",
       "2                                  [very, comfortable]\n",
       "3    [fast, delivery, product, expiry, is, on, dec,...\n",
       "4    [its, sooooo, cute, i, like, playing, with, th...\n",
       "Name: review, dtype: object"
      ]
     },
     "execution_count": 32,
     "metadata": {},
     "output_type": "execute_result"
    }
   ],
   "source": [
    "test['review'] = test['review'].apply(lambda x: tokenizer.tokenize(x.lower()))\n",
    "test['review'].head()"
   ]
  },
  {
   "cell_type": "code",
   "execution_count": 33,
   "metadata": {},
   "outputs": [
    {
     "data": {
      "text/plain": [
       "0    great danger cool motif cantik2 juga models de...\n",
       "1                             one shades dont fit well\n",
       "2                                          comfortable\n",
       "3    fast delivery product expiry dec 2022 product ...\n",
       "4    sooooo cute like playing glitters better brows...\n",
       "Name: review, dtype: object"
      ]
     },
     "execution_count": 33,
     "metadata": {},
     "output_type": "execute_result"
    }
   ],
   "source": [
    "test['review'] = test['review'].apply(lambda x: remove_stopwords(x))\n",
    "test['review'].head()"
   ]
  },
  {
   "cell_type": "code",
   "execution_count": 34,
   "metadata": {},
   "outputs": [
    {
     "data": {
      "text/plain": [
       "0    great danger cool motif cantik2 juga model del...\n",
       "1                            one shade do not fit well\n",
       "2                                          comfortable\n",
       "3    fast delivery product expiry dec 2022 product ...\n",
       "4    sooooo cute like play glitter better browse ph...\n",
       "Name: review, dtype: object"
      ]
     },
     "execution_count": 34,
     "metadata": {},
     "output_type": "execute_result"
    }
   ],
   "source": [
    "test['review'] = test['review'].apply(lambda x: word_lemmatizer(x))\n",
    "test['review'].head()"
   ]
  },
  {
   "cell_type": "markdown",
   "execution_count": null,
   "metadata": {},
   "source": [
    "# Modeling (using TensorFlow)"
   ]
  },
  {
   "cell_type": "code",
   "execution_count": 35,
   "metadata": {},
   "outputs": [
    {
     "name": "stderr",
     "output_type": "stream",
     "text": [
      "\u001b[34m\u001b[1mwandb\u001b[0m: \u001b[33mWARNING\u001b[0m W&B installed but not logged in.  Run `wandb login` or set the WANDB_API_KEY env variable.\n"
     ]
    }
   ],
   "source": [
    "import tensorflow as tf\n",
    "from tensorflow.keras.layers import Dense, Input\n",
    "from tensorflow.keras.optimizers import Adam\n",
    "from tensorflow.keras.models import Model\n",
    "from tensorflow.keras.callbacks import ModelCheckpoint\n",
    "\n",
    "import transformers\n",
    "from transformers import TFAutoModel, AutoTokenizer\n",
    "from tqdm.notebook import tqdm\n",
    "from tokenizers import Tokenizer, models, pre_tokenizers, decoders, processors"
   ]
  },
  {
   "cell_type": "code",
   "execution_count": 36,
   "metadata": {},
   "outputs": [],
   "source": [
    "def regular_encode(texts, tokenizer, maxlen=512):\n",
    "    enc_di = tokenizer.batch_encode_plus(\n",
    "             texts, \n",
    "             return_attention_masks=False, \n",
    "             return_token_type_ids=False,\n",
    "             pad_to_max_length=True,\n",
    "             max_length=maxlen)\n",
    "    \n",
    "    return np.array(enc_di['input_ids'])"
   ]
  },
  {
   "cell_type": "code",
   "execution_count": 37,
   "metadata": {},
   "outputs": [],
   "source": [
    "def build_model(transformer, max_len=512):\n",
    "    \n",
    "    input_word_ids = Input(shape=(max_len,), dtype=tf.int32, name=\"input_word_ids\")\n",
    "    sequence_output = transformer(input_word_ids)[0]\n",
    "    cls_token = sequence_output[:, 0, :]\n",
    "    out = Dense(5, activation='softmax')(cls_token) # 5 ratings to predict\n",
    "    \n",
    "    model = Model(inputs=input_word_ids, outputs=out)\n",
    "    model.compile(Adam(lr=1e-5), loss='categorical_crossentropy', metrics=['accuracy'])\n",
    "    \n",
    "    return model"
   ]
  },
  {
   "cell_type": "code",
   "execution_count": 38,
   "metadata": {},
   "outputs": [
    {
     "name": "stdout",
     "output_type": "stream",
     "text": [
      "Running on TPU  grpc://10.0.0.2:8470\n",
      "REPLICAS:  8\n"
     ]
    }
   ],
   "source": [
    "try:\n",
    "    # TPU detection. No parameters necessary if TPU_NAME environment variable is\n",
    "    # set: this is always the case on Kaggle.\n",
    "    tpu = tf.distribute.cluster_resolver.TPUClusterResolver()\n",
    "    print('Running on TPU ', tpu.master())\n",
    "except ValueError:\n",
    "    tpu = None\n",
    "\n",
    "if tpu:\n",
    "    tf.config.experimental_connect_to_cluster(tpu)\n",
    "    tf.tpu.experimental.initialize_tpu_system(tpu)\n",
    "    strategy = tf.distribute.experimental.TPUStrategy(tpu)\n",
    "else:\n",
    "    # Default distribution strategy in Tensorflow. Works on CPU and single GPU.\n",
    "    strategy = tf.distribute.get_strategy()\n",
    "\n",
    "print(\"REPLICAS: \", strategy.num_replicas_in_sync)"
   ]
  },
  {
   "cell_type": "code",
   "execution_count": 39,
   "metadata": {},
   "outputs": [],
   "source": [
    "# For tf.dataset\n",
    "AUTO = tf.data.experimental.AUTOTUNE\n",
    "\n",
    "# Configuration\n",
    "EPOCHS = 4\n",
    "BATCH_SIZE = 16 * strategy.num_replicas_in_sync\n",
    "MODEL = 'jplu/tf-xlm-roberta-large' # bert-base-multilingual-uncased"
   ]
  },
  {
   "cell_type": "code",
   "execution_count": 40,
   "metadata": {},
   "outputs": [],
   "source": [
    "# since tf.keras reads your data take 0 as the reference, our category should start from 0 not 1\n",
    "rating_mapper_encode = {1: 0,\n",
    "                        2: 1,\n",
    "                        3: 2,\n",
    "                        4: 3,\n",
    "                        5: 4}\n",
    "\n",
    "# convert back to original rating after prediction later\n",
    "rating_mapper_decode = {0: 1,\n",
    "                        1: 2,\n",
    "                        2: 3,\n",
    "                        3: 4,\n",
    "                        4: 5}\n",
    "\n",
    "train['rating'] = train['rating'].map(rating_mapper_encode)"
   ]
  },
  {
   "cell_type": "code",
   "execution_count": 41,
   "metadata": {},
   "outputs": [],
   "source": [
    "from tensorflow.keras.utils import to_categorical\n",
    "\n",
    "# convert to one-hot-encoding-labels\n",
    "train_labels = to_categorical(train['rating'], num_classes=5)"
   ]
  },
  {
   "cell_type": "code",
   "execution_count": 42,
   "metadata": {},
   "outputs": [
    {
     "data": {
      "text/plain": [
       "((117385,), (29347,), (117385, 5), (29347, 5))"
      ]
     },
     "execution_count": 42,
     "metadata": {},
     "output_type": "execute_result"
    }
   ],
   "source": [
    "from sklearn.model_selection import train_test_split\n",
    "\n",
    "X_train, X_val, y_train, y_val = train_test_split(train['review'],\n",
    "                                                  train_labels,\n",
    "                                                  stratify=train_labels,\n",
    "                                                  test_size=0.2,\n",
    "                                                  random_state=456)\n",
    "\n",
    "X_train.shape, X_val.shape, y_train.shape, y_val.shape"
   ]
  },
  {
   "cell_type": "code",
   "execution_count": 43,
   "metadata": {},
   "outputs": [
    {
     "data": {
      "application/vnd.jupyter.widget-view+json": {
       "model_id": "dbf0248a587740b38a11c61e1a9f6c0c",
       "version_major": 2,
       "version_minor": 0
      },
      "text/plain": [
       "HBox(children=(FloatProgress(value=0.0, description='Downloading', max=513.0, style=ProgressStyle(description_…"
      ]
     },
     "metadata": {},
     "output_type": "display_data"
    },
    {
     "name": "stdout",
     "output_type": "stream",
     "text": [
      "\n"
     ]
    },
    {
     "data": {
      "application/vnd.jupyter.widget-view+json": {
       "model_id": "f2f502d17c904610be41173632e2fe06",
       "version_major": 2,
       "version_minor": 0
      },
      "text/plain": [
       "HBox(children=(FloatProgress(value=0.0, description='Downloading', max=5069051.0, style=ProgressStyle(descript…"
      ]
     },
     "metadata": {},
     "output_type": "display_data"
    },
    {
     "name": "stdout",
     "output_type": "stream",
     "text": [
      "\n"
     ]
    }
   ],
   "source": [
    "# load tokenizer\n",
    "tokenizer = AutoTokenizer.from_pretrained(MODEL)"
   ]
  },
  {
   "cell_type": "code",
   "execution_count": 44,
   "metadata": {},
   "outputs": [],
   "source": [
    "MAX_LEN = 192\n",
    "\n",
    "X_train = regular_encode(X_train.values, tokenizer, maxlen=MAX_LEN)\n",
    "X_val = regular_encode(X_val.values, tokenizer, maxlen=MAX_LEN)\n",
    "X_test = regular_encode(test['review'].values, tokenizer, maxlen=MAX_LEN)"
   ]
  },
  {
   "cell_type": "code",
   "execution_count": 45,
   "metadata": {},
   "outputs": [],
   "source": [
    "train_dataset = (\n",
    "    tf.data.Dataset\n",
    "    .from_tensor_slices((X_train, y_train))\n",
    "    .repeat()\n",
    "    .shuffle(1024)\n",
    "    .batch(BATCH_SIZE)\n",
    "    .prefetch(AUTO)\n",
    ")\n",
    "\n",
    "valid_dataset = (\n",
    "    tf.data.Dataset\n",
    "    .from_tensor_slices((X_val, y_val))\n",
    "    .batch(BATCH_SIZE)\n",
    "    .cache()\n",
    "    .prefetch(AUTO)\n",
    ")\n",
    "\n",
    "test_dataset = (\n",
    "    tf.data.Dataset\n",
    "    .from_tensor_slices(X_test)\n",
    "    .batch(BATCH_SIZE)\n",
    ")"
   ]
  },
  {
   "cell_type": "code",
   "execution_count": 46,
   "metadata": {},
   "outputs": [
    {
     "data": {
      "application/vnd.jupyter.widget-view+json": {
       "model_id": "d8c2be6a6ed34ddbb41ac527ac48abae",
       "version_major": 2,
       "version_minor": 0
      },
      "text/plain": [
       "HBox(children=(FloatProgress(value=0.0, description='Downloading', max=3271420488.0, style=ProgressStyle(descr…"
      ]
     },
     "metadata": {},
     "output_type": "display_data"
    },
    {
     "name": "stdout",
     "output_type": "stream",
     "text": [
      "\n",
      "Model: \"model\"\n",
      "_________________________________________________________________\n",
      "Layer (type)                 Output Shape              Param #   \n",
      "=================================================================\n",
      "input_word_ids (InputLayer)  [(None, 192)]             0         \n",
      "_________________________________________________________________\n",
      "tf_roberta_model (TFRobertaM ((None, 192, 1024), (None 559890432 \n",
      "_________________________________________________________________\n",
      "tf_op_layer_strided_slice (T [(None, 1024)]            0         \n",
      "_________________________________________________________________\n",
      "dense (Dense)                (None, 5)                 5125      \n",
      "=================================================================\n",
      "Total params: 559,895,557\n",
      "Trainable params: 559,895,557\n",
      "Non-trainable params: 0\n",
      "_________________________________________________________________\n",
      "CPU times: user 2min 9s, sys: 38.5 s, total: 2min 47s\n",
      "Wall time: 4min 41s\n"
     ]
    }
   ],
   "source": [
    "%%time\n",
    "\n",
    "with strategy.scope():\n",
    "    transformer_layer = TFAutoModel.from_pretrained(MODEL)\n",
    "    model = build_model(transformer_layer, max_len=MAX_LEN)\n",
    "model.summary()"
   ]
  },
  {
   "cell_type": "code",
   "execution_count": 47,
   "metadata": {},
   "outputs": [
    {
     "name": "stdout",
     "output_type": "stream",
     "text": [
      "Epoch 1/4\n"
     ]
    },
    {
     "name": "stderr",
     "output_type": "stream",
     "text": [
      "/opt/conda/lib/python3.7/site-packages/tensorflow/python/framework/indexed_slices.py:431: UserWarning: Converting sparse IndexedSlices to a dense Tensor with 256002048 elements. This may consume a large amount of memory.\n",
      "  num_elements)\n"
     ]
    },
    {
     "name": "stdout",
     "output_type": "stream",
     "text": [
      "917/917 [==============================] - 440s 480ms/step - loss: 1.5655 - accuracy: 0.2768 - val_loss: 1.5045 - val_accuracy: 0.2495\n",
      "Epoch 2/4\n",
      "917/917 [==============================] - 407s 444ms/step - loss: 1.4062 - accuracy: 0.3248 - val_loss: 1.2873 - val_accuracy: 0.3993\n",
      "Epoch 3/4\n",
      "917/917 [==============================] - 407s 444ms/step - loss: 1.2387 - accuracy: 0.4063 - val_loss: 1.2447 - val_accuracy: 0.4328\n",
      "Epoch 4/4\n",
      "917/917 [==============================] - 408s 445ms/step - loss: 1.1749 - accuracy: 0.4372 - val_loss: 1.1601 - val_accuracy: 0.4546\n"
     ]
    }
   ],
   "source": [
    "n_steps = X_train.shape[0] // BATCH_SIZE\n",
    "\n",
    "train_history = model.fit(\n",
    "    train_dataset,\n",
    "    steps_per_epoch=n_steps,\n",
    "    validation_data=valid_dataset,\n",
    "    epochs=EPOCHS\n",
    ")"
   ]
  },
  {
   "cell_type": "code",
   "execution_count": 48,
   "metadata": {},
   "outputs": [
    {
     "data": {
      "image/png": "[encoded data removed]",
      "text/plain": [
       "<Figure size 432x288 with 1 Axes>"
      ]
     },
     "metadata": {},
     "output_type": "display_data"
    }
   ],
   "source": [
    "plt.style.use('fivethirtyeight')\n",
    "\n",
    "# Get training and test loss histories\n",
    "training_loss = train_history.history['loss']\n",
    "test_loss = train_history.history['val_loss']\n",
    "\n",
    "# Create count of the number of epochs\n",
    "epoch_count = range(1, len(training_loss) + 1)\n",
    "\n",
    "# Visualize loss history\n",
    "plt.plot(epoch_count, training_loss, 'r--')\n",
    "plt.plot(epoch_count, test_loss, 'b-')\n",
    "plt.legend(['Training Loss', 'Test Loss'])\n",
    "plt.xlabel('Epoch')\n",
    "plt.ylabel('Loss')\n",
    "plt.show()"
   ]
  },
  {
   "cell_type": "code",
   "execution_count": 49,
   "metadata": {},
   "outputs": [
    {
     "name": "stdout",
     "output_type": "stream",
     "text": [
      "473/473 [==============================] - 60s 127ms/step\n"
     ]
    }
   ],
   "source": [
    "pred = model.predict(test_dataset, verbose=1)"
   ]
  },
  {
   "cell_type": "code",
   "execution_count": 50,
   "metadata": {},
   "outputs": [],
   "source": [
    "# save for ensemble\n",
    "np.save('xlm-roberta', pred)"
   ]
  },
  {
   "cell_type": "code",
   "execution_count": 51,
   "metadata": {},
   "outputs": [
    {
     "name": "stdout",
     "output_type": "stream",
     "text": [
      "[2 2 3 ... 3 3 3]\n"
     ]
    }
   ],
   "source": [
    "pred_sentiment = np.argmax(pred, axis=1)\n",
    "\n",
    "print(pred_sentiment)"
   ]
  },
  {
   "cell_type": "code",
   "execution_count": 52,
   "metadata": {},
   "outputs": [],
   "source": [
    "submission = pd.DataFrame({'review_id': test_dup['review_id'],\n",
    "                           'rating': pred_sentiment})"
   ]
  },
  {
   "cell_type": "markdown",
   "execution_count": null,
   "metadata": {},
   "source": [
    "# Submit Predictions\n",
    "Lastly, convert our rating values back to 1 - 5"
   ]
  },
  {
   "cell_type": "code",
   "execution_count": 53,
   "metadata": {},
   "outputs": [],
   "source": [
    "submission['rating'] = submission['rating'].map(rating_mapper_decode)\n",
    "\n",
    "submission.to_csv('submission', index=False)"
   ]
  }
 ],
 "metadata": {
  "kernelspec": {
   "display_name": "Python 3",
   "language": "python",
   "name": "python3"
  },
  "language_info": {
   "codemirror_mode": {
    "name": "ipython",
    "version": 3
   },
   "file_extension": ".py",
   "mimetype": "text/x-python",
   "name": "python",
   "nbconvert_exporter": "python",
   "pygments_lexer": "ipython3",
   "version": "3.7.6"
  },
  "widgets": {
   "application/vnd.jupyter.widget-state+json": {
    "state": {
     "12894baeec7e45748d472320db8c3793": {
      "model_module": "@jupyter-widgets/controls",
      "model_module_version": "1.5.0",
      "model_name": "FloatProgressModel",
      "state": {
       "_dom_classes": [],
       "_model_module": "@jupyter-widgets/controls",
       "_model_module_version": "1.5.0",
       "_model_name": "FloatProgressModel",
       "_view_count": null,
       "_view_module": "@jupyter-widgets/controls",
       "_view_module_version": "1.5.0",
       "_view_name": "ProgressView",
       "bar_style": "success",
       "description": "Downloading: 100%",
       "description_tooltip": null,
       "layout": "IPY_MODEL_f151f4ee05e5416183d0ec3f9d41519f",
       "max": 513.0,
       "min": 0.0,
       "orientation": "horizontal",
       "style": "IPY_MODEL_63e0f5bbb5174023ba6f80551da7dee2",
       "value": 513.0
      }
     },
     "19dac919b509451db5e4a16c7a28dc15": {
      "model_module": "@jupyter-widgets/controls",
      "model_module_version": "1.5.0",
      "model_name": "DescriptionStyleModel",
      "state": {
       "_model_module": "@jupyter-widgets/controls",
       "_model_module_version": "1.5.0",
       "_model_name": "DescriptionStyleModel",
       "_view_count": null,
       "_view_module": "@jupyter-widgets/base",
       "_view_module_version": "1.2.0",
       "_view_name": "StyleView",
       "description_width": ""
      }
     },
     "1e5a98cc8d164fa1acb951b5620f3ab6": {
      "model_module": "@jupyter-widgets/controls",
      "model_module_version": "1.5.0",
      "model_name": "HTMLModel",
      "state": {
       "_dom_classes": [],
       "_model_module": "@jupyter-widgets/controls",
       "_model_module_version": "1.5.0",
       "_model_name": "HTMLModel",
       "_view_count": null,
       "_view_module": "@jupyter-widgets/controls",
       "_view_module_version": "1.5.0",
       "_view_name": "HTMLView",
       "description": "",
       "description_tooltip": null,
       "layout": "IPY_MODEL_45433e880a4b4648803d7e0a918e1963",
       "placeholder": "​",
       "style": "IPY_MODEL_51d7a45a0dfc4d88abe6ffcf262a49fe",
       "value": " 513/513 [00:00&lt;00:00, 1.71kB/s]"
      }
     },
     "2c9a274967b44a2a91b20faf4707f5d7": {
      "model_module": "@jupyter-widgets/controls",
      "model_module_version": "1.5.0",
      "model_name": "ProgressStyleModel",
      "state": {
       "_model_module": "@jupyter-widgets/controls",
       "_model_module_version": "1.5.0",
       "_model_name": "ProgressStyleModel",
       "_view_count": null,
       "_view_module": "@jupyter-widgets/base",
       "_view_module_version": "1.2.0",
       "_view_name": "StyleView",
       "bar_color": null,
       "description_width": "initial"
      }
     },
     "36dd8ff021804796937823840f4855b2": {
      "model_module": "@jupyter-widgets/base",
      "model_module_version": "1.2.0",
      "model_name": "LayoutModel",
      "state": {
       "_model_module": "@jupyter-widgets/base",
       "_model_module_version": "1.2.0",
       "_model_name": "LayoutModel",
       "_view_count": null,
       "_view_module": "@jupyter-widgets/base",
       "_view_module_version": "1.2.0",
       "_view_name": "LayoutView",
       "align_content": null,
       "align_items": null,
       "align_self": null,
       "border": null,
       "bottom": null,
       "display": null,
       "flex": null,
       "flex_flow": null,
       "grid_area": null,
       "grid_auto_columns": null,
       "grid_auto_flow": null,
       "grid_auto_rows": null,
       "grid_column": null,
       "grid_gap": null,
       "grid_row": null,
       "grid_template_areas": null,
       "grid_template_columns": null,
       "grid_template_rows": null,
       "height": null,
       "justify_content": null,
       "justify_items": null,
       "left": null,
       "margin": null,
       "max_height": null,
       "max_width": null,
       "min_height": null,
       "min_width": null,
       "object_fit": null,
       "object_position": null,
       "order": null,
       "overflow": null,
       "overflow_x": null,
       "overflow_y": null,
       "padding": null,
       "right": null,
       "top": null,
       "visibility": null,
       "width": null
      }
     },
     "389e001fdd0148f187b58cef4954c45e": {
      "model_module": "@jupyter-widgets/base",
      "model_module_version": "1.2.0",
      "model_name": "LayoutModel",
      "state": {
       "_model_module": "@jupyter-widgets/base",
       "_model_module_version": "1.2.0",
       "_model_name": "LayoutModel",
       "_view_count": null,
       "_view_module": "@jupyter-widgets/base",
       "_view_module_version": "1.2.0",
       "_view_name": "LayoutView",
       "align_content": null,
       "align_items": null,
       "align_self": null,
       "border": null,
       "bottom": null,
       "display": null,
       "flex": null,
       "flex_flow": null,
       "grid_area": null,
       "grid_auto_columns": null,
       "grid_auto_flow": null,
       "grid_auto_rows": null,
       "grid_column": null,
       "grid_gap": null,
       "grid_row": null,
       "grid_template_areas": null,
       "grid_template_columns": null,
       "grid_template_rows": null,
       "height": null,
       "justify_content": null,
       "justify_items": null,
       "left": null,
       "margin": null,
       "max_height": null,
       "max_width": null,
       "min_height": null,
       "min_width": null,
       "object_fit": null,
       "object_position": null,
       "order": null,
       "overflow": null,
       "overflow_x": null,
       "overflow_y": null,
       "padding": null,
       "right": null,
       "top": null,
       "visibility": null,
       "width": null
      }
     },
     "39b84a310699489f9ed61dd5c08f291a": {
      "model_module": "@jupyter-widgets/base",
      "model_module_version": "1.2.0",
      "model_name": "LayoutModel",
      "state": {
       "_model_module": "@jupyter-widgets/base",
       "_model_module_version": "1.2.0",
       "_model_name": "LayoutModel",
       "_view_count": null,
       "_view_module": "@jupyter-widgets/base",
       "_view_module_version": "1.2.0",
       "_view_name": "LayoutView",
       "align_content": null,
       "align_items": null,
       "align_self": null,
       "border": null,
       "bottom": null,
       "display": null,
       "flex": null,
       "flex_flow": null,
       "grid_area": null,
       "grid_auto_columns": null,
       "grid_auto_flow": null,
       "grid_auto_rows": null,
       "grid_column": null,
       "grid_gap": null,
       "grid_row": null,
       "grid_template_areas": null,
       "grid_template_columns": null,
       "grid_template_rows": null,
       "height": null,
       "justify_content": null,
       "justify_items": null,
       "left": null,
       "margin": null,
       "max_height": null,
       "max_width": null,
       "min_height": null,
       "min_width": null,
       "object_fit": null,
       "object_position": null,
       "order": null,
       "overflow": null,
       "overflow_x": null,
       "overflow_y": null,
       "padding": null,
       "right": null,
       "top": null,
       "visibility": null,
       "width": null
      }
     },
     "43ab91d13b3348f3ab531801204aad82": {
      "model_module": "@jupyter-widgets/controls",
      "model_module_version": "1.5.0",
      "model_name": "DescriptionStyleModel",
      "state": {
       "_model_module": "@jupyter-widgets/controls",
       "_model_module_version": "1.5.0",
       "_model_name": "DescriptionStyleModel",
       "_view_count": null,
       "_view_module": "@jupyter-widgets/base",
       "_view_module_version": "1.2.0",
       "_view_name": "StyleView",
       "description_width": ""
      }
     },
     "45433e880a4b4648803d7e0a918e1963": {
      "model_module": "@jupyter-widgets/base",
      "model_module_version": "1.2.0",
      "model_name": "LayoutModel",
      "state": {
       "_model_module": "@jupyter-widgets/base",
       "_model_module_version": "1.2.0",
       "_model_name": "LayoutModel",
       "_view_count": null,
       "_view_module": "@jupyter-widgets/base",
       "_view_module_version": "1.2.0",
       "_view_name": "LayoutView",
       "align_content": null,
       "align_items": null,
       "align_self": null,
       "border": null,
       "bottom": null,
       "display": null,
       "flex": null,
       "flex_flow": null,
       "grid_area": null,
       "grid_auto_columns": null,
       "grid_auto_flow": null,
       "grid_auto_rows": null,
       "grid_column": null,
       "grid_gap": null,
       "grid_row": null,
       "grid_template_areas": null,
       "grid_template_columns": null,
       "grid_template_rows": null,
       "height": null,
       "justify_content": null,
       "justify_items": null,
       "left": null,
       "margin": null,
       "max_height": null,
       "max_width": null,
       "min_height": null,
       "min_width": null,
       "object_fit": null,
       "object_position": null,
       "order": null,
       "overflow": null,
       "overflow_x": null,
       "overflow_y": null,
       "padding": null,
       "right": null,
       "top": null,
       "visibility": null,
       "width": null
      }
     },
     "4652c6c340a64dc68a0aaf67715bb4bc": {
      "model_module": "@jupyter-widgets/base",
      "model_module_version": "1.2.0",
      "model_name": "LayoutModel",
      "state": {
       "_model_module": "@jupyter-widgets/base",
       "_model_module_version": "1.2.0",
       "_model_name": "LayoutModel",
       "_view_count": null,
       "_view_module": "@jupyter-widgets/base",
       "_view_module_version": "1.2.0",
       "_view_name": "LayoutView",
       "align_content": null,
       "align_items": null,
       "align_self": null,
       "border": null,
       "bottom": null,
       "display": null,
       "flex": null,
       "flex_flow": null,
       "grid_area": null,
       "grid_auto_columns": null,
       "grid_auto_flow": null,
       "grid_auto_rows": null,
       "grid_column": null,
       "grid_gap": null,
       "grid_row": null,
       "grid_template_areas": null,
       "grid_template_columns": null,
       "grid_template_rows": null,
       "height": null,
       "justify_content": null,
       "justify_items": null,
       "left": null,
       "margin": null,
       "max_height": null,
       "max_width": null,
       "min_height": null,
       "min_width": null,
       "object_fit": null,
       "object_position": null,
       "order": null,
       "overflow": null,
       "overflow_x": null,
       "overflow_y": null,
       "padding": null,
       "right": null,
       "top": null,
       "visibility": null,
       "width": null
      }
     },
     "4a79d83236cd48b1972331452aee1906": {
      "model_module": "@jupyter-widgets/controls",
      "model_module_version": "1.5.0",
      "model_name": "FloatProgressModel",
      "state": {
       "_dom_classes": [],
       "_model_module": "@jupyter-widgets/controls",
       "_model_module_version": "1.5.0",
       "_model_name": "FloatProgressModel",
       "_view_count": null,
       "_view_module": "@jupyter-widgets/controls",
       "_view_module_version": "1.5.0",
       "_view_name": "ProgressView",
       "bar_style": "success",
       "description": "Downloading: 100%",
       "description_tooltip": null,
       "layout": "IPY_MODEL_4652c6c340a64dc68a0aaf67715bb4bc",
       "max": 5069051.0,
       "min": 0.0,
       "orientation": "horizontal",
       "style": "IPY_MODEL_f77a1dac440b427ea9920c6d21949c37",
       "value": 5069051.0
      }
     },
     "51d7a45a0dfc4d88abe6ffcf262a49fe": {
      "model_module": "@jupyter-widgets/controls",
      "model_module_version": "1.5.0",
      "model_name": "DescriptionStyleModel",
      "state": {
       "_model_module": "@jupyter-widgets/controls",
       "_model_module_version": "1.5.0",
       "_model_name": "DescriptionStyleModel",
       "_view_count": null,
       "_view_module": "@jupyter-widgets/base",
       "_view_module_version": "1.2.0",
       "_view_name": "StyleView",
       "description_width": ""
      }
     },
     "63e0f5bbb5174023ba6f80551da7dee2": {
      "model_module": "@jupyter-widgets/controls",
      "model_module_version": "1.5.0",
      "model_name": "ProgressStyleModel",
      "state": {
       "_model_module": "@jupyter-widgets/controls",
       "_model_module_version": "1.5.0",
       "_model_name": "ProgressStyleModel",
       "_view_count": null,
       "_view_module": "@jupyter-widgets/base",
       "_view_module_version": "1.2.0",
       "_view_name": "StyleView",
       "bar_color": null,
       "description_width": "initial"
      }
     },
     "87552cc6046647a587b3557b429ef6f7": {
      "model_module": "@jupyter-widgets/base",
      "model_module_version": "1.2.0",
      "model_name": "LayoutModel",
      "state": {
       "_model_module": "@jupyter-widgets/base",
       "_model_module_version": "1.2.0",
       "_model_name": "LayoutModel",
       "_view_count": null,
       "_view_module": "@jupyter-widgets/base",
       "_view_module_version": "1.2.0",
       "_view_name": "LayoutView",
       "align_content": null,
       "align_items": null,
       "align_self": null,
       "border": null,
       "bottom": null,
       "display": null,
       "flex": null,
       "flex_flow": null,
       "grid_area": null,
       "grid_auto_columns": null,
       "grid_auto_flow": null,
       "grid_auto_rows": null,
       "grid_column": null,
       "grid_gap": null,
       "grid_row": null,
       "grid_template_areas": null,
       "grid_template_columns": null,
       "grid_template_rows": null,
       "height": null,
       "justify_content": null,
       "justify_items": null,
       "left": null,
       "margin": null,
       "max_height": null,
       "max_width": null,
       "min_height": null,
       "min_width": null,
       "object_fit": null,
       "object_position": null,
       "order": null,
       "overflow": null,
       "overflow_x": null,
       "overflow_y": null,
       "padding": null,
       "right": null,
       "top": null,
       "visibility": null,
       "width": null
      }
     },
     "8ee50a1f28384a9d940988860c153ec1": {
      "model_module": "@jupyter-widgets/controls",
      "model_module_version": "1.5.0",
      "model_name": "HTMLModel",
      "state": {
       "_dom_classes": [],
       "_model_module": "@jupyter-widgets/controls",
       "_model_module_version": "1.5.0",
       "_model_name": "HTMLModel",
       "_view_count": null,
       "_view_module": "@jupyter-widgets/controls",
       "_view_module_version": "1.5.0",
       "_view_name": "HTMLView",
       "description": "",
       "description_tooltip": null,
       "layout": "IPY_MODEL_39b84a310699489f9ed61dd5c08f291a",
       "placeholder": "​",
       "style": "IPY_MODEL_19dac919b509451db5e4a16c7a28dc15",
       "value": " 5.07M/5.07M [00:01&lt;00:00, 3.19MB/s]"
      }
     },
     "8f409bb9af4c4935bfa774b9d1fc54ec": {
      "model_module": "@jupyter-widgets/base",
      "model_module_version": "1.2.0",
      "model_name": "LayoutModel",
      "state": {
       "_model_module": "@jupyter-widgets/base",
       "_model_module_version": "1.2.0",
       "_model_name": "LayoutModel",
       "_view_count": null,
       "_view_module": "@jupyter-widgets/base",
       "_view_module_version": "1.2.0",
       "_view_name": "LayoutView",
       "align_content": null,
       "align_items": null,
       "align_self": null,
       "border": null,
       "bottom": null,
       "display": null,
       "flex": null,
       "flex_flow": null,
       "grid_area": null,
       "grid_auto_columns": null,
       "grid_auto_flow": null,
       "grid_auto_rows": null,
       "grid_column": null,
       "grid_gap": null,
       "grid_row": null,
       "grid_template_areas": null,
       "grid_template_columns": null,
       "grid_template_rows": null,
       "height": null,
       "justify_content": null,
       "justify_items": null,
       "left": null,
       "margin": null,
       "max_height": null,
       "max_width": null,
       "min_height": null,
       "min_width": null,
       "object_fit": null,
       "object_position": null,
       "order": null,
       "overflow": null,
       "overflow_x": null,
       "overflow_y": null,
       "padding": null,
       "right": null,
       "top": null,
       "visibility": null,
       "width": null
      }
     },
     "c1718f879e3e4bb3b75ce6ceb5ae5442": {
      "model_module": "@jupyter-widgets/controls",
      "model_module_version": "1.5.0",
      "model_name": "HTMLModel",
      "state": {
       "_dom_classes": [],
       "_model_module": "@jupyter-widgets/controls",
       "_model_module_version": "1.5.0",
       "_model_name": "HTMLModel",
       "_view_count": null,
       "_view_module": "@jupyter-widgets/controls",
       "_view_module_version": "1.5.0",
       "_view_name": "HTMLView",
       "description": "",
       "description_tooltip": null,
       "layout": "IPY_MODEL_87552cc6046647a587b3557b429ef6f7",
       "placeholder": "​",
       "style": "IPY_MODEL_43ab91d13b3348f3ab531801204aad82",
       "value": " 3.27G/3.27G [03:45&lt;00:00, 14.5MB/s]"
      }
     },
     "ca4dc770350e47cea11f6b3f3d326919": {
      "model_module": "@jupyter-widgets/base",
      "model_module_version": "1.2.0",
      "model_name": "LayoutModel",
      "state": {
       "_model_module": "@jupyter-widgets/base",
       "_model_module_version": "1.2.0",
       "_model_name": "LayoutModel",
       "_view_count": null,
       "_view_module": "@jupyter-widgets/base",
       "_view_module_version": "1.2.0",
       "_view_name": "LayoutView",
       "align_content": null,
       "align_items": null,
       "align_self": null,
       "border": null,
       "bottom": null,
       "display": null,
       "flex": null,
       "flex_flow": null,
       "grid_area": null,
       "grid_auto_columns": null,
       "grid_auto_flow": null,
       "grid_auto_rows": null,
       "grid_column": null,
       "grid_gap": null,
       "grid_row": null,
       "grid_template_areas": null,
       "grid_template_columns": null,
       "grid_template_rows": null,
       "height": null,
       "justify_content": null,
       "justify_items": null,
       "left": null,
       "margin": null,
       "max_height": null,
       "max_width": null,
       "min_height": null,
       "min_width": null,
       "object_fit": null,
       "object_position": null,
       "order": null,
       "overflow": null,
       "overflow_x": null,
       "overflow_y": null,
       "padding": null,
       "right": null,
       "top": null,
       "visibility": null,
       "width": null
      }
     },
     "d8c2be6a6ed34ddbb41ac527ac48abae": {
      "model_module": "@jupyter-widgets/controls",
      "model_module_version": "1.5.0",
      "model_name": "HBoxModel",
      "state": {
       "_dom_classes": [],
       "_model_module": "@jupyter-widgets/controls",
       "_model_module_version": "1.5.0",
       "_model_name": "HBoxModel",
       "_view_count": null,
       "_view_module": "@jupyter-widgets/controls",
       "_view_module_version": "1.5.0",
       "_view_name": "HBoxView",
       "box_style": "",
       "children": [
        "IPY_MODEL_dd193a86668d4bb3a2a138150e8f3551",
        "IPY_MODEL_c1718f879e3e4bb3b75ce6ceb5ae5442"
       ],
       "layout": "IPY_MODEL_ca4dc770350e47cea11f6b3f3d326919"
      }
     },
     "dbf0248a587740b38a11c61e1a9f6c0c": {
      "model_module": "@jupyter-widgets/controls",
      "model_module_version": "1.5.0",
      "model_name": "HBoxModel",
      "state": {
       "_dom_classes": [],
       "_model_module": "@jupyter-widgets/controls",
       "_model_module_version": "1.5.0",
       "_model_name": "HBoxModel",
       "_view_count": null,
       "_view_module": "@jupyter-widgets/controls",
       "_view_module_version": "1.5.0",
       "_view_name": "HBoxView",
       "box_style": "",
       "children": [
        "IPY_MODEL_12894baeec7e45748d472320db8c3793",
        "IPY_MODEL_1e5a98cc8d164fa1acb951b5620f3ab6"
       ],
       "layout": "IPY_MODEL_8f409bb9af4c4935bfa774b9d1fc54ec"
      }
     },
     "dd193a86668d4bb3a2a138150e8f3551": {
      "model_module": "@jupyter-widgets/controls",
      "model_module_version": "1.5.0",
      "model_name": "FloatProgressModel",
      "state": {
       "_dom_classes": [],
       "_model_module": "@jupyter-widgets/controls",
       "_model_module_version": "1.5.0",
       "_model_name": "FloatProgressModel",
       "_view_count": null,
       "_view_module": "@jupyter-widgets/controls",
       "_view_module_version": "1.5.0",
       "_view_name": "ProgressView",
       "bar_style": "success",
       "description": "Downloading: 100%",
       "description_tooltip": null,
       "layout": "IPY_MODEL_36dd8ff021804796937823840f4855b2",
       "max": 3271420488.0,
       "min": 0.0,
       "orientation": "horizontal",
       "style": "IPY_MODEL_2c9a274967b44a2a91b20faf4707f5d7",
       "value": 3271420488.0
      }
     },
     "f151f4ee05e5416183d0ec3f9d41519f": {
      "model_module": "@jupyter-widgets/base",
      "model_module_version": "1.2.0",
      "model_name": "LayoutModel",
      "state": {
       "_model_module": "@jupyter-widgets/base",
       "_model_module_version": "1.2.0",
       "_model_name": "LayoutModel",
       "_view_count": null,
       "_view_module": "@jupyter-widgets/base",
       "_view_module_version": "1.2.0",
       "_view_name": "LayoutView",
       "align_content": null,
       "align_items": null,
       "align_self": null,
       "border": null,
       "bottom": null,
       "display": null,
       "flex": null,
       "flex_flow": null,
       "grid_area": null,
       "grid_auto_columns": null,
       "grid_auto_flow": null,
       "grid_auto_rows": null,
       "grid_column": null,
       "grid_gap": null,
       "grid_row": null,
       "grid_template_areas": null,
       "grid_template_columns": null,
       "grid_template_rows": null,
       "height": null,
       "justify_content": null,
       "justify_items": null,
       "left": null,
       "margin": null,
       "max_height": null,
       "max_width": null,
       "min_height": null,
       "min_width": null,
       "object_fit": null,
       "object_position": null,
       "order": null,
       "overflow": null,
       "overflow_x": null,
       "overflow_y": null,
       "padding": null,
       "right": null,
       "top": null,
       "visibility": null,
       "width": null
      }
     },
     "f2f502d17c904610be41173632e2fe06": {
      "model_module": "@jupyter-widgets/controls",
      "model_module_version": "1.5.0",
      "model_name": "HBoxModel",
      "state": {
       "_dom_classes": [],
       "_model_module": "@jupyter-widgets/controls",
       "_model_module_version": "1.5.0",
       "_model_name": "HBoxModel",
       "_view_count": null,
       "_view_module": "@jupyter-widgets/controls",
       "_view_module_version": "1.5.0",
       "_view_name": "HBoxView",
       "box_style": "",
       "children": [
        "IPY_MODEL_4a79d83236cd48b1972331452aee1906",
        "IPY_MODEL_8ee50a1f28384a9d940988860c153ec1"
       ],
       "layout": "IPY_MODEL_389e001fdd0148f187b58cef4954c45e"
      }
     },
     "f77a1dac440b427ea9920c6d21949c37": {
      "model_module": "@jupyter-widgets/controls",
      "model_module_version": "1.5.0",
      "model_name": "ProgressStyleModel",
      "state": {
       "_model_module": "@jupyter-widgets/controls",
       "_model_module_version": "1.5.0",
       "_model_name": "ProgressStyleModel",
       "_view_count": null,
       "_view_module": "@jupyter-widgets/base",
       "_view_module_version": "1.2.0",
       "_view_name": "StyleView",
       "bar_color": null,
       "description_width": "initial"
      }
     }
    },
    "version_major": 2,
    "version_minor": 0
   }
  }
 },
 "nbformat": 4,
 "nbformat_minor": 4
}
